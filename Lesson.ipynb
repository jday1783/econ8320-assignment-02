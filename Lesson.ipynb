{
 "cells": [
  {
   "cell_type": "markdown",
   "id": "639c45a6-5e0a-4bc7-b921-a1409b194432",
   "metadata": {},
   "source": [
    "## Why do I need to know this?\n",
    "\n",
    "Programming, at it's heart, is about being able to reduce the amount of work it takes to accomplish a task. In manufacturing, this would look like building a machine that can accomplish portions of a task with less human effort. By reducing the amount of work that we have to put into a process, we free ourselves up to focus on the tasks that are not so easily accomplished by anyone besides a competent human being (us). \n",
    "\n",
    "Think of a program as really tiny machinery. Your goal is to make a machine (in code) that can accomplish routine tasks for you. When you're done, you get to focus on other important tasks that demand your attention. For example, you might want to spend your time working on a forecast model, but first you need to check to make sure that all values in your time series are valid. You COULD just open up your data, and look at every record to make sure that each fits the rules that valid data should follow. Or you could write a program that can check every line for you, and either alert you to problems, or possibly fix them without you even having to be involved. Then, all of your time is freed for the forecasting model.\n",
    "\n",
    "Last week we talked about some of the types of information that we can store in Python. This week, we will start to learn about the tools baked into Python that allow us to begin the process of automation.\n",
    "\n",
    "## Conditions\n",
    "\n",
    "We have used conditions a few times already, but it is time to talk seriously about conditions and logical statements in Python. If you haven't noticed this yet, you will soon note that Python (and all other programming languages) are VERY literal. Things that we don't intend will occur whenever we assume that a computer will interpret an ambiguous statement in a single anticipated (by humans) way. Eventually, you will get used to being very careful when describing conditions in your code, and these problems will become less of an issue.\n",
    "\n",
    "In Python, we have keywords that we can use to express different kinds of logic. Let's get started by talking about `if` statements. `if` statements function in Python pretty much the same way that they do in English: you state a condition, and then explain what should happen if that condition is met. You can then list alternative outcomes with the conditions that should be met prior to implementing those contingency plans. Finally, you can list what to do in any other outcomes that were not explicity described. Let's try this out:"
   ]
  },
  {
   "cell_type": "code",
   "execution_count": 1,
   "id": "b283e30d-d9f6-40a4-b174-8a88d655ae86",
   "metadata": {},
   "outputs": [
    {
     "name": "stdout",
     "output_type": "stream",
     "text": [
      "Whoa, that's a big one!\n"
     ]
    }
   ],
   "source": [
    "x = 150\n",
    "\n",
    "if x > 100:\n",
    "    print(\"Whoa, that's a big one!\")"
   ]
  },
  {
   "cell_type": "markdown",
   "id": "bec26e52-0681-4426-a111-cd9e58522782",
   "metadata": {},
   "source": [
    "When we utilize conditions like the example above, every statement depends on the result of the evaluation of a **logical statement**. In this case, the **logical statement** is `x > 100`. This statement has a result that is a boolean value, as we can see if we ask Python to evaluate it as a standalone statement:"
   ]
  },
  {
   "cell_type": "code",
   "execution_count": null,
   "id": "eb5227e6-dfca-4010-8d82-1eb382f70a1c",
   "metadata": {},
   "outputs": [],
   "source": [
    "x > 100"
   ]
  },
  {
   "cell_type": "markdown",
   "id": "c3aa1a1c-2eed-4dfe-aaaa-22f40684f71f",
   "metadata": {},
   "source": [
    "When we use `if` statements, they are *always* paired with logical statements. We can write the logical statement inline, like we just did, or we can evaluate the truth of any prior statement. Let's look at another helpful example of an `if` statement using existing values:"
   ]
  },
  {
   "cell_type": "code",
   "execution_count": null,
   "id": "8bfc08a7-fe57-481b-99eb-49b3fbc7cd47",
   "metadata": {},
   "outputs": [],
   "source": [
    "x = 150\n",
    "y = 200\n",
    "\n",
    "xBigger = x > y\n",
    "xBig = x > 100\n",
    "\n",
    "if xBig & xBigger:\n",
    "    print(\"That is a REALLY big number\")\n",
    "elif xBig:\n",
    "    print(\"x is big, but not THAT big\")\n",
    "else:\n",
    "    print(\"x isn't really that big\")"
   ]
  },
  {
   "cell_type": "markdown",
   "id": "442595d3-11fb-43e7-b9fc-deb6a210b130",
   "metadata": {},
   "source": [
    "Here we take two numbers (`x` and `y`), and use two logical statements (`x > y` and `x > 100`) to evaluate several possible outcomes. First, we check if both conditions are true using the statement `xBig & xBigger`. If both are `True`, then we print the statement assigned to the `if` block.\n",
    "\n",
    "Next, we incorporate the keyword `elif`. `elif` is a keyword that *continues* an `if` statement. It tells Python to evaluate it's truthiness if the condition above it fails. In other words, the `elif` statement is only evaluated in this case when the joint statement `xBig & xBigger` is `False`. If the `elif` statement is evaluated as `True`, then its assigned print statement is executed and we skip the `else` block that follows.\n",
    "\n",
    "If the `elif` statement(s) (there can be as many as needed for our problem) is/are *also* `False`, then we reach the `else` statement. This is automatically executed when all other conditions fail and in this case prints the final print statement. `else` indicates that the code should associated with it should be run when all previous logical statements in the block are evaluated as `False`. It will not run if *any* of the previous statements evaluate as `True`.\n",
    "\n",
    "When writing logical blocks, we always write our code in the following order: \n",
    "\n",
    "1) Write an `if` statement, and its corresponding code block \n",
    "\n",
    "2) If needed, write as many `elif` statements as needed, along with their corresponding code blocks. **NOTE**: `elif` statements will be evaluated from top to bottom in the code, and once a single `elif` statement is evaluated as `True`, none of the subsequent `elif` statements will be evaluated. Put your `elif` statements in the order that you want them to be prioritized! \n",
    "\n",
    "3) If needed, write an `else` statement that will apply to all events not covered by `if` or `elif` statements\n",
    "\n",
    "**Solve it**: (from *The Python Workbook*)\n",
    "\n",
    "The following table lists the sound level in decibels for several common noises.\n",
    "\n",
    "| Noise | Decibel Level (dB) |\n",
    "|---|---|\n",
    "| Jackhammer | 130 |\n",
    "| Gas Lawnmower | 106 |\n",
    "| Alarm Clock | 70 |\n",
    "| Quiet Room | 40 |\n",
    "\n",
    "In a cell with the comment `#si-decibel`, write code that reads a sound level **input** in decibels from the user. \n",
    "\n",
    "If the user enters a decibel level (stored in variable `x`) that matches one of the noises in the table then your program should print a message indicating that the sound matches the volume of that noise. If the user enters a number of decibels between the noises listed then your program should print a message indicating which noises the sound level is between. Ensure that your program also generates reasonable output for a value smaller than the quietest noise in the table, and for a value larger than the loudest noise in the table."
   ]
  },
  {
   "cell_type": "code",
   "execution_count": 31,
   "id": "5cfe9b80-f2ec-481f-9db5-bb6247b1b472",
   "metadata": {},
   "outputs": [
    {
     "name": "stdout",
     "output_type": "stream",
     "text": [
      "Jackhammer\n",
      "Gas Lawnmower\n",
      "Alarm Clock\n",
      "Quiet Room\n"
     ]
    },
    {
     "ename": "ValueError",
     "evalue": "invalid literal for int() with base 10: ''",
     "output_type": "error",
     "traceback": [
      "\u001b[0;31m---------------------------------------------------------------------------\u001b[0m\n",
      "\u001b[0;31mValueError\u001b[0m                                Traceback (most recent call last)\n",
      "Cell \u001b[0;32mIn[31], line 13\u001b[0m\n",
      "\u001b[1;32m     10\u001b[0m     \u001b[38;5;28;01melse\u001b[39;00m:\n",
      "\u001b[1;32m     11\u001b[0m         \u001b[38;5;28mprint\u001b[39m(\u001b[38;5;124m\"\u001b[39m\u001b[38;5;124mQuiet Room\u001b[39m\u001b[38;5;124m\"\u001b[39m)\n",
      "\u001b[0;32m---> 13\u001b[0m x \u001b[38;5;241m=\u001b[39m \u001b[38;5;28mint\u001b[39m(\u001b[38;5;28minput\u001b[39m(\u001b[38;5;241m20\u001b[39m))\n",
      "\n",
      "\u001b[0;31mValueError\u001b[0m: invalid literal for int() with base 10: ''"
     ]
    }
   ],
   "source": [
    "#si-decibel\n",
    "noises = [130, 106, 70, 40]\n",
    "for x in noises: \n",
    "    if x >= 118:\n",
    "        print(\"Jackhammer\")\n",
    "    elif x >= 88:\n",
    "        print(\"Gas Lawnmower\")\n",
    "    elif x >= 55:\n",
    "        print(\"Alarm Clock\")\n",
    "    else:\n",
    "        print(\"Quiet Room\")\n",
    "\n",
    "x = int(input(20))\n",
    "\n"
   ]
  },
  {
   "cell_type": "markdown",
   "id": "5958feb4-be13-4987-8a0f-efb5c6d16079",
   "metadata": {},
   "source": [
    "## Loops\n",
    "\n",
    "Just a minute ago, we thought about a problem where we might need to check each record in a data set for valid entries. If we want to accomplish this kind of task, we need to write code that will check the first line, then the second line, then the third line, etc. We can do this by hand, of course. Imagine a list of entries stored in the variable `forecastData`, where we need to make sure that each record is above 40 but below 50. Checking each value manually for validity might look something like the code below:"
   ]
  },
  {
   "cell_type": "code",
   "execution_count": null,
   "id": "041bc267-2e90-4960-8306-ce45fa4b6dc1",
   "metadata": {},
   "outputs": [
    {
     "name": "stdout",
     "output_type": "stream",
     "text": [
      "True\n",
      "True\n",
      "False\n",
      "True\n",
      "False\n"
     ]
    },
    {
     "name": "stderr",
     "output_type": "stream",
     "text": [
      "\n",
      "KeyboardInterrupt\n",
      "\n"
     ]
    }
   ],
   "source": [
    "forecastData = [49.5, 40.2, 53.7, 48.9, 51.0]\n",
    "\n",
    "if (forecastData[0] > 40) & (forecastData[0] < 50):\n",
    "    print(True)\n",
    "else:\n",
    "    print(False)\n",
    "    \n",
    "if (forecastData[1] > 40) & (forecastData[1] < 50):\n",
    "    print(True)\n",
    "else:\n",
    "    print(False)\n",
    "    \n",
    "if (forecastData[2] > 40) & (forecastData[2] < 50):\n",
    "    print(True)\n",
    "else:\n",
    "    print(False)\n",
    "    \n",
    "if (forecastData[3] > 40) & (forecastData[3] < 50):\n",
    "    print(True)\n",
    "else:\n",
    "    print(False)\n",
    "    \n",
    "if (forecastData[4] > 40) & (forecastData[4] < 50):\n",
    "    print(True)\n",
    "else:\n",
    "    print(False)\n",
    "\n"
   ]
  },
  {
   "cell_type": "markdown",
   "id": "83f58d66-e081-45f6-b655-ed2d55689f88",
   "metadata": {},
   "source": [
    "That is a LOT of redundant code. Does it work? Sure. But what happens when I need to fix it? As I typed those lines, I did some copying and pasting, and then noticed that I made a few typos. At that point, I had to fix the typos and then copy and paste the corrected code again. Not ideal, but functional. Then I did it again! And again! It got pretty frustrating to fix each of the iterations of the code... \n",
    "\n",
    "While convenience is important, it is very likely when I am copying and pasting code over and over that I will make mistakes. If I just have to write one version of the code that would work for each of the lines of my list, I could avoid many of these errors.\n",
    "\n",
    "What we are doing when we write logic like the code above is called **looping**. We are writing code that will iteratively work its way through each specified record, and will **loop** through the same logic for each of those records. Wouldn't it be easier if we could just specify the pattern of behavior we expect, and not have to walk our program through each specific iteration?\n",
    "\n",
    "Yes. Yes it would.\n",
    "\n",
    "### For Loops\n",
    "\n",
    "The most common type of loop used in Python is a `for` loop. They are convenient and safe. Let's rewrite the code above using a loop rather than repeated (copy and pasted) code."
   ]
  },
  {
   "cell_type": "code",
   "execution_count": 25,
   "id": "7ff966c4-a46f-498e-9671-f347d97e877c",
   "metadata": {},
   "outputs": [
    {
     "name": "stdout",
     "output_type": "stream",
     "text": [
      "True\n",
      "True\n",
      "False\n",
      "True\n",
      "False\n"
     ]
    }
   ],
   "source": [
    "forecastData = [49.5, 40.2, 53.7, 48.9, 51.0]\n",
    "\n",
    "for i in forecastData:\n",
    "    if (i > 40) & (i < 50):\n",
    "        print(True)\n",
    "    else:\n",
    "        print(False)"
   ]
  },
  {
   "cell_type": "markdown",
   "id": "4228530e-24c5-481c-acec-94fb16bac098",
   "metadata": {},
   "source": [
    "That was way easier! But really, what did we just do?\n",
    "\n",
    "The structure of our `for` loop above is the standard format for Python. It translates to English in the following way: \"For every element (call it `i`) in the object `forecastData`, do the following:\". We even end the statement with a colon like we would in English!\n",
    "\n",
    "`i` becomes a **placeholder**, or a variable that will be temporarily assigned each time our loop goes to work. It will use each entry in `forecastData` one time, and while a given entry is being used, it will have the nickname `i`. That way, we can write all the code in our loop to describe what should happen to `i`. Then, in each pass of the loop, `i` takes the next value, and we follow the same set of instructions. In this case, we are just checking that our variables meet the established criteria, and then printing `True` if they do, or `False` if they don't.\n",
    "\n",
    "One awesome side effect of this version of loops is that we can easily update our loop if there is a mistake or change to the pattern, and we only have to do so ONE time! No copying and pasting, and less risk of accidental errors popping up in our code.\n",
    "\n",
    "**Solve it**:\n",
    "\n",
    "In a cell with the comment `#si-print-loop`, write a for loop that will print out each word in the following list one by one:\n",
    "`[\"A\",\"Long\",\"Time\",\"Ago\",\"In\",\"A\",\"Galaxy\",\"Far\",\"Far\",\"Away\"]`"
   ]
  },
  {
   "cell_type": "code",
   "execution_count": 33,
   "id": "679c4ad5-81eb-428d-9665-309ed2c4f870",
   "metadata": {},
   "outputs": [
    {
     "name": "stdout",
     "output_type": "stream",
     "text": [
      "A\n",
      "Long\n",
      "Time\n",
      "Ago\n",
      "In\n",
      "A\n",
      "Galaxy\n",
      "Far\n",
      "Far\n",
      "Away\n"
     ]
    }
   ],
   "source": [
    "#si-print-loop\n",
    "for i in [\"A\",\"Long\",\"Time\",\"Ago\",\"In\",\"A\",\"Galaxy\",\"Far\",\"Far\",\"Away\"]:\n",
    "    print(i)"
   ]
  },
  {
   "cell_type": "markdown",
   "id": "08017665-cb98-4d7f-af5f-7d3eac361d95",
   "metadata": {},
   "source": [
    "### List Comprehensions\n",
    "\n",
    "Another great way to write a for loop is to use **list comprehensions**, or lists containing loop syntax that can generate a list as a result of the loop! It is a compact and effective way to get your concept into list form:"
   ]
  },
  {
   "cell_type": "code",
   "execution_count": 34,
   "id": "62d13841-8e8b-417b-a70b-d57f4f39af7b",
   "metadata": {},
   "outputs": [
    {
     "name": "stdout",
     "output_type": "stream",
     "text": [
      "[True, True, False, True, False]\n"
     ]
    }
   ],
   "source": [
    "forecastData = [49.5, 40.2, 53.7, 48.9, 51.0]\n",
    "\n",
    "# Use a list comprehension to evaluate the conditions from our old for loop\n",
    "meetsCondition = [(i > 40) & (i < 50) for i in forecastData]\n",
    "\n",
    "print(meetsCondition)"
   ]
  },
  {
   "cell_type": "markdown",
   "id": "a992091f-652a-4eba-9dd6-57b874ae6568",
   "metadata": {},
   "source": [
    "In this list comprehension, we are able to use a *single line* to write out our previous `for` loop, and then we can simply print our results by printing out the list itself. List comprehensions can provide us a quick way to make all sorts of lists:"
   ]
  },
  {
   "cell_type": "code",
   "execution_count": 36,
   "id": "34afd161-b9f1-4f73-9b48-2bb5d8204bcf",
   "metadata": {
    "tags": []
   },
   "outputs": [
    {
     "name": "stdout",
     "output_type": "stream",
     "text": [
      "List from 0 to 9 [0, 1, 2, 3, 4, 5, 6, 7, 8, 9] \n",
      "\n",
      "List of multiples of 3 [0, 3, 6, 9, 12, 15, 18, 21, 24, 27, 30, 33, 36, 39, 42, 45, 48, 51, 54, 57, 60, 63, 66, 69, 72, 75, 78, 81, 84, 87, 90, 93, 96, 99]\n"
     ]
    }
   ],
   "source": [
    "# Make a list of integers from 0 to 9\n",
    "quickList = [i for i in range(10)]\n",
    "\n",
    "print(\"List from 0 to 9\", quickList, \"\\n\")\n",
    "\n",
    "# Make a list that prints all numbers divisible by 3\n",
    "\n",
    "anotherList = [i for i in range(100) if i%3==0]\n",
    "\n",
    "print(\"List of multiples of 3\", anotherList)"
   ]
  },
  {
   "cell_type": "markdown",
   "id": "e4bd6187-a769-4f72-9840-2c260c841f0c",
   "metadata": {},
   "source": [
    "As we can see from that second example, we can even include statements that allow us to use `if` statements and control which elements are included within our list comprehension.\n",
    "\n",
    "Comprehensions are frequently used to streamline code, and can make our work much easier to read if a for statement is only intended to transform data based on a fixed pattern for all elements in an existing list or other iterable.\n",
    "\n",
    "**NOTE:** an **iterable** is any object that can be used as the basis for a loop in Python. Lists, dictionaries, the `range` function, and many other objects are iterable! Try different types of variables out and see what happens! This will pay dividends as you write code later on.\n",
    "\n",
    "**Solve it**:\n",
    "\n",
    "In a cell with the comment `#si-fours`, write a list comprehension to find all numbers between 0 and 1000 with the number 4 in them, and store the resulting list as the variable `fours`."
   ]
  },
  {
   "cell_type": "code",
   "execution_count": 105,
   "id": "42ba7d49-bd42-4073-8594-520ecf4347fc",
   "metadata": {},
   "outputs": [
    {
     "name": "stdout",
     "output_type": "stream",
     "text": [
      "[4, 14, 24, 34, 40, 41, 42, 43, 44, 45, 46, 47, 48, 49, 54, 64, 74, 84, 94, 104, 114, 124, 134, 140, 141, 142, 143, 144, 145, 146, 147, 148, 149, 154, 164, 174, 184, 194, 204, 214, 224, 234, 240, 241, 242, 243, 244, 245, 246, 247, 248, 249, 254, 264, 274, 284, 294, 304, 314, 324, 334, 340, 341, 342, 343, 344, 345, 346, 347, 348, 349, 354, 364, 374, 384, 394, 400, 401, 402, 403, 404, 405, 406, 407, 408, 409, 410, 411, 412, 413, 414, 415, 416, 417, 418, 419, 420, 421, 422, 423, 424, 425, 426, 427, 428, 429, 430, 431, 432, 433, 434, 435, 436, 437, 438, 439, 440, 441, 442, 443, 444, 445, 446, 447, 448, 449, 450, 451, 452, 453, 454, 455, 456, 457, 458, 459, 460, 461, 462, 463, 464, 465, 466, 467, 468, 469, 470, 471, 472, 473, 474, 475, 476, 477, 478, 479, 480, 481, 482, 483, 484, 485, 486, 487, 488, 489, 490, 491, 492, 493, 494, 495, 496, 497, 498, 499, 504, 514, 524, 534, 540, 541, 542, 543, 544, 545, 546, 547, 548, 549, 554, 564, 574, 584, 594, 604, 614, 624, 634, 640, 641, 642, 643, 644, 645, 646, 647, 648, 649, 654, 664, 674, 684, 694, 704, 714, 724, 734, 740, 741, 742, 743, 744, 745, 746, 747, 748, 749, 754, 764, 774, 784, 794, 804, 814, 824, 834, 840, 841, 842, 843, 844, 845, 846, 847, 848, 849, 854, 864, 874, 884, 894, 904, 914, 924, 934, 940, 941, 942, 943, 944, 945, 946, 947, 948, 949, 954, 964, 974, 984, 994, 1004, 1014, 1024, 1034, 1040, 1041, 1042, 1043, 1044, 1045, 1046, 1047, 1048, 1049, 1054, 1064, 1074, 1084, 1094, 1104, 1114, 1124, 1134, 1140, 1141, 1142, 1143, 1144, 1145, 1146, 1147, 1148, 1149, 1154, 1164, 1174, 1184, 1194, 1204, 1214, 1224, 1234, 1240, 1241, 1242, 1243, 1244, 1245, 1246, 1247, 1248, 1249, 1254, 1264, 1274, 1284, 1294, 1304, 1314, 1324, 1334, 1340, 1341, 1342, 1343, 1344, 1345, 1346, 1347, 1348, 1349, 1354, 1364, 1374, 1384, 1394, 1400, 1401, 1402, 1403, 1404, 1405, 1406, 1407, 1408, 1409, 1410, 1411, 1412, 1413, 1414, 1415, 1416, 1417, 1418, 1419, 1420, 1421, 1422, 1423, 1424, 1425, 1426, 1427, 1428, 1429, 1430, 1431, 1432, 1433, 1434, 1435, 1436, 1437, 1438, 1439, 1440, 1441, 1442, 1443, 1444, 1445, 1446, 1447, 1448, 1449, 1450, 1451, 1452, 1453, 1454, 1455, 1456, 1457, 1458, 1459, 1460, 1461, 1462, 1463, 1464, 1465, 1466, 1467, 1468, 1469, 1470, 1471, 1472, 1473, 1474, 1475, 1476, 1477, 1478, 1479, 1480, 1481, 1482, 1483, 1484, 1485, 1486, 1487, 1488, 1489, 1490, 1491, 1492, 1493, 1494, 1495, 1496, 1497, 1498, 1499, 1504, 1514, 1524, 1534, 1540, 1541, 1542, 1543, 1544, 1545, 1546, 1547, 1548, 1549, 1554, 1564, 1574, 1584, 1594, 1604, 1614, 1624, 1634, 1640, 1641, 1642, 1643, 1644, 1645, 1646, 1647, 1648, 1649, 1654, 1664, 1674, 1684, 1694, 1704, 1714, 1724, 1734, 1740, 1741, 1742, 1743, 1744, 1745, 1746, 1747, 1748, 1749, 1754, 1764, 1774, 1784, 1794, 1804, 1814, 1824, 1834, 1840, 1841, 1842, 1843, 1844, 1845, 1846, 1847, 1848, 1849, 1854, 1864, 1874, 1884, 1894, 1904, 1914, 1924, 1934, 1940, 1941, 1942, 1943, 1944, 1945, 1946, 1947, 1948, 1949, 1954, 1964, 1974, 1984, 1994, 2004, 2014, 2024, 2034, 2040, 2041, 2042, 2043, 2044, 2045, 2046, 2047, 2048, 2049, 2054, 2064, 2074, 2084, 2094, 2104, 2114, 2124, 2134, 2140, 2141, 2142, 2143, 2144, 2145, 2146, 2147, 2148, 2149, 2154, 2164, 2174, 2184, 2194, 2204, 2214, 2224, 2234, 2240, 2241, 2242, 2243, 2244, 2245, 2246, 2247, 2248, 2249, 2254, 2264, 2274, 2284, 2294, 2304, 2314, 2324, 2334, 2340, 2341, 2342, 2343, 2344, 2345, 2346, 2347, 2348, 2349, 2354, 2364, 2374, 2384, 2394, 2400, 2401, 2402, 2403, 2404, 2405, 2406, 2407, 2408, 2409, 2410, 2411, 2412, 2413, 2414, 2415, 2416, 2417, 2418, 2419, 2420, 2421, 2422, 2423, 2424, 2425, 2426, 2427, 2428, 2429, 2430, 2431, 2432, 2433, 2434, 2435, 2436, 2437, 2438, 2439, 2440, 2441, 2442, 2443, 2444, 2445, 2446, 2447, 2448, 2449, 2450, 2451, 2452, 2453, 2454, 2455, 2456, 2457, 2458, 2459, 2460, 2461, 2462, 2463, 2464, 2465, 2466, 2467, 2468, 2469, 2470, 2471, 2472, 2473, 2474, 2475, 2476, 2477, 2478, 2479, 2480, 2481, 2482, 2483, 2484, 2485, 2486, 2487, 2488, 2489, 2490, 2491, 2492, 2493, 2494, 2495, 2496, 2497, 2498, 2499, 2504, 2514, 2524, 2534, 2540, 2541, 2542, 2543, 2544, 2545, 2546, 2547, 2548, 2549, 2554, 2564, 2574, 2584, 2594, 2604, 2614, 2624, 2634, 2640, 2641, 2642, 2643, 2644, 2645, 2646, 2647, 2648, 2649, 2654, 2664, 2674, 2684, 2694, 2704, 2714, 2724, 2734, 2740, 2741, 2742, 2743, 2744, 2745, 2746, 2747, 2748, 2749, 2754, 2764, 2774, 2784, 2794, 2804, 2814, 2824, 2834, 2840, 2841, 2842, 2843, 2844, 2845, 2846, 2847, 2848, 2849, 2854, 2864, 2874, 2884, 2894, 2904, 2914, 2924, 2934, 2940, 2941, 2942, 2943, 2944, 2945, 2946, 2947, 2948, 2949, 2954, 2964, 2974, 2984, 2994, 3004, 3014, 3024, 3034, 3040, 3041, 3042, 3043, 3044, 3045, 3046, 3047, 3048, 3049, 3054, 3064, 3074, 3084, 3094, 3104, 3114, 3124, 3134, 3140, 3141, 3142, 3143, 3144, 3145, 3146, 3147, 3148, 3149, 3154, 3164, 3174, 3184, 3194, 3204, 3214, 3224, 3234, 3240, 3241, 3242, 3243, 3244, 3245, 3246, 3247, 3248, 3249, 3254, 3264, 3274, 3284, 3294, 3304, 3314, 3324, 3334, 3340, 3341, 3342, 3343, 3344, 3345, 3346, 3347, 3348, 3349, 3354, 3364, 3374, 3384, 3394, 3400, 3401, 3402, 3403, 3404, 3405, 3406, 3407, 3408, 3409, 3410, 3411, 3412, 3413, 3414, 3415, 3416, 3417, 3418, 3419, 3420, 3421, 3422, 3423, 3424, 3425, 3426, 3427, 3428, 3429, 3430, 3431, 3432, 3433, 3434, 3435, 3436, 3437, 3438, 3439, 3440, 3441, 3442, 3443, 3444, 3445, 3446, 3447, 3448, 3449, 3450, 3451, 3452, 3453, 3454, 3455, 3456, 3457, 3458, 3459, 3460, 3461, 3462, 3463, 3464, 3465, 3466, 3467, 3468, 3469, 3470, 3471, 3472, 3473, 3474, 3475, 3476, 3477, 3478, 3479, 3480, 3481, 3482, 3483, 3484, 3485, 3486, 3487, 3488, 3489, 3490, 3491, 3492, 3493, 3494, 3495, 3496, 3497, 3498, 3499, 3504, 3514, 3524, 3534, 3540, 3541, 3542, 3543, 3544, 3545, 3546, 3547, 3548, 3549, 3554, 3564, 3574, 3584, 3594, 3604, 3614, 3624, 3634, 3640, 3641, 3642, 3643, 3644, 3645, 3646, 3647, 3648, 3649, 3654, 3664, 3674, 3684, 3694, 3704, 3714, 3724, 3734, 3740, 3741, 3742, 3743, 3744, 3745, 3746, 3747, 3748, 3749, 3754, 3764, 3774, 3784, 3794, 3804, 3814, 3824, 3834, 3840, 3841, 3842, 3843, 3844, 3845, 3846, 3847, 3848, 3849, 3854, 3864, 3874, 3884, 3894, 3904, 3914, 3924, 3934, 3940, 3941, 3942, 3943, 3944, 3945, 3946, 3947, 3948, 3949, 3954, 3964, 3974, 3984, 3994, 4000, 4001, 4002, 4003, 4004, 4005, 4006, 4007, 4008, 4009, 4010, 4011, 4012, 4013, 4014, 4015, 4016, 4017, 4018, 4019, 4020, 4021, 4022, 4023, 4024, 4025, 4026, 4027, 4028, 4029, 4030, 4031, 4032, 4033, 4034, 4035, 4036, 4037, 4038, 4039, 4040, 4041, 4042, 4043, 4044, 4045, 4046, 4047, 4048, 4049, 4050, 4051, 4052, 4053, 4054, 4055, 4056, 4057, 4058, 4059, 4060, 4061, 4062, 4063, 4064, 4065, 4066, 4067, 4068, 4069, 4070, 4071, 4072, 4073, 4074, 4075, 4076, 4077, 4078, 4079, 4080, 4081, 4082, 4083, 4084, 4085, 4086, 4087, 4088, 4089, 4090, 4091, 4092, 4093, 4094, 4095, 4096, 4097, 4098, 4099, 4100, 4101, 4102, 4103, 4104, 4105, 4106, 4107, 4108, 4109, 4110, 4111, 4112, 4113, 4114, 4115, 4116, 4117, 4118, 4119, 4120, 4121, 4122, 4123, 4124, 4125, 4126, 4127, 4128, 4129, 4130, 4131, 4132, 4133, 4134, 4135, 4136, 4137, 4138, 4139, 4140, 4141, 4142, 4143, 4144, 4145, 4146, 4147, 4148, 4149, 4150, 4151, 4152, 4153, 4154, 4155, 4156, 4157, 4158, 4159, 4160, 4161, 4162, 4163, 4164, 4165, 4166, 4167, 4168, 4169, 4170, 4171, 4172, 4173, 4174, 4175, 4176, 4177, 4178, 4179, 4180, 4181, 4182, 4183, 4184, 4185, 4186, 4187, 4188, 4189, 4190, 4191, 4192, 4193, 4194, 4195, 4196, 4197, 4198, 4199, 4200, 4201, 4202, 4203, 4204, 4205, 4206, 4207, 4208, 4209, 4210, 4211, 4212, 4213, 4214, 4215, 4216, 4217, 4218, 4219, 4220, 4221, 4222, 4223, 4224, 4225, 4226, 4227, 4228, 4229, 4230, 4231, 4232, 4233, 4234, 4235, 4236, 4237, 4238, 4239, 4240, 4241, 4242, 4243, 4244, 4245, 4246, 4247, 4248, 4249, 4250, 4251, 4252, 4253, 4254, 4255, 4256, 4257, 4258, 4259, 4260, 4261, 4262, 4263, 4264, 4265, 4266, 4267, 4268, 4269, 4270, 4271, 4272, 4273, 4274, 4275, 4276, 4277, 4278, 4279, 4280, 4281, 4282, 4283, 4284, 4285, 4286, 4287, 4288, 4289, 4290, 4291, 4292, 4293, 4294, 4295, 4296, 4297, 4298, 4299, 4300, 4301, 4302, 4303, 4304, 4305, 4306, 4307, 4308, 4309, 4310, 4311, 4312, 4313, 4314, 4315, 4316, 4317, 4318, 4319, 4320, 4321, 4322, 4323, 4324, 4325, 4326, 4327, 4328, 4329, 4330, 4331, 4332, 4333, 4334, 4335, 4336, 4337, 4338, 4339, 4340, 4341, 4342, 4343, 4344, 4345, 4346, 4347, 4348, 4349, 4350, 4351, 4352, 4353, 4354, 4355, 4356, 4357, 4358, 4359, 4360, 4361, 4362, 4363, 4364, 4365, 4366, 4367, 4368, 4369, 4370, 4371, 4372, 4373, 4374, 4375, 4376, 4377, 4378, 4379, 4380, 4381, 4382, 4383, 4384, 4385, 4386, 4387, 4388, 4389, 4390, 4391, 4392, 4393, 4394, 4395, 4396, 4397, 4398, 4399, 4400, 4401, 4402, 4403, 4404, 4405, 4406, 4407, 4408, 4409, 4410, 4411, 4412, 4413, 4414, 4415, 4416, 4417, 4418, 4419, 4420, 4421, 4422, 4423, 4424, 4425, 4426, 4427, 4428, 4429, 4430, 4431, 4432, 4433, 4434, 4435, 4436, 4437, 4438, 4439, 4440, 4441, 4442, 4443, 4444, 4445, 4446, 4447, 4448, 4449, 4450, 4451, 4452, 4453, 4454, 4455, 4456, 4457, 4458, 4459, 4460, 4461, 4462, 4463, 4464, 4465, 4466, 4467, 4468, 4469, 4470, 4471, 4472, 4473, 4474, 4475, 4476, 4477, 4478, 4479, 4480, 4481, 4482, 4483, 4484, 4485, 4486, 4487, 4488, 4489, 4490, 4491, 4492, 4493, 4494, 4495, 4496, 4497, 4498, 4499, 4500, 4501, 4502, 4503, 4504, 4505, 4506, 4507, 4508, 4509, 4510, 4511, 4512, 4513, 4514, 4515, 4516, 4517, 4518, 4519, 4520, 4521, 4522, 4523, 4524, 4525, 4526, 4527, 4528, 4529, 4530, 4531, 4532, 4533, 4534, 4535, 4536, 4537, 4538, 4539, 4540, 4541, 4542, 4543, 4544, 4545, 4546, 4547, 4548, 4549, 4550, 4551, 4552, 4553, 4554, 4555, 4556, 4557, 4558, 4559, 4560, 4561, 4562, 4563, 4564, 4565, 4566, 4567, 4568, 4569, 4570, 4571, 4572, 4573, 4574, 4575, 4576, 4577, 4578, 4579, 4580, 4581, 4582, 4583, 4584, 4585, 4586, 4587, 4588, 4589, 4590, 4591, 4592, 4593, 4594, 4595, 4596, 4597, 4598, 4599, 4600, 4601, 4602, 4603, 4604, 4605, 4606, 4607, 4608, 4609, 4610, 4611, 4612, 4613, 4614, 4615, 4616, 4617, 4618, 4619, 4620, 4621, 4622, 4623, 4624, 4625, 4626, 4627, 4628, 4629, 4630, 4631, 4632, 4633, 4634, 4635, 4636, 4637, 4638, 4639, 4640, 4641, 4642, 4643, 4644, 4645, 4646, 4647, 4648, 4649, 4650, 4651, 4652, 4653, 4654, 4655, 4656, 4657, 4658, 4659, 4660, 4661, 4662, 4663, 4664, 4665, 4666, 4667, 4668, 4669, 4670, 4671, 4672, 4673, 4674, 4675, 4676, 4677, 4678, 4679, 4680, 4681, 4682, 4683, 4684, 4685, 4686, 4687, 4688, 4689, 4690, 4691, 4692, 4693, 4694, 4695, 4696, 4697, 4698, 4699, 4700, 4701, 4702, 4703, 4704, 4705, 4706, 4707, 4708, 4709, 4710, 4711, 4712, 4713, 4714, 4715, 4716, 4717, 4718, 4719, 4720, 4721, 4722, 4723, 4724, 4725, 4726, 4727, 4728, 4729, 4730, 4731, 4732, 4733, 4734, 4735, 4736, 4737, 4738, 4739, 4740, 4741, 4742, 4743, 4744, 4745, 4746, 4747, 4748, 4749, 4750, 4751, 4752, 4753, 4754, 4755, 4756, 4757, 4758, 4759, 4760, 4761, 4762, 4763, 4764, 4765, 4766, 4767, 4768, 4769, 4770, 4771, 4772, 4773, 4774, 4775, 4776, 4777, 4778, 4779, 4780, 4781, 4782, 4783, 4784, 4785, 4786, 4787, 4788, 4789, 4790, 4791, 4792, 4793, 4794, 4795, 4796, 4797, 4798, 4799, 4800, 4801, 4802, 4803, 4804, 4805, 4806, 4807, 4808, 4809, 4810, 4811, 4812, 4813, 4814, 4815, 4816, 4817, 4818, 4819, 4820, 4821, 4822, 4823, 4824, 4825, 4826, 4827, 4828, 4829, 4830, 4831, 4832, 4833, 4834, 4835, 4836, 4837, 4838, 4839, 4840, 4841, 4842, 4843, 4844, 4845, 4846, 4847, 4848, 4849, 4850, 4851, 4852, 4853, 4854, 4855, 4856, 4857, 4858, 4859, 4860, 4861, 4862, 4863, 4864, 4865, 4866, 4867, 4868, 4869, 4870, 4871, 4872, 4873, 4874, 4875, 4876, 4877, 4878, 4879, 4880, 4881, 4882, 4883, 4884, 4885, 4886, 4887, 4888, 4889, 4890, 4891, 4892, 4893, 4894, 4895, 4896, 4897, 4898, 4899, 4900, 4901, 4902, 4903, 4904, 4905, 4906, 4907, 4908, 4909, 4910, 4911, 4912, 4913, 4914, 4915, 4916, 4917, 4918, 4919, 4920, 4921, 4922, 4923, 4924, 4925, 4926, 4927, 4928, 4929, 4930, 4931, 4932, 4933, 4934, 4935, 4936, 4937, 4938, 4939, 4940, 4941, 4942, 4943, 4944, 4945, 4946, 4947, 4948, 4949, 4950, 4951, 4952, 4953, 4954, 4955, 4956, 4957, 4958, 4959, 4960, 4961, 4962, 4963, 4964, 4965, 4966, 4967, 4968, 4969, 4970, 4971, 4972, 4973, 4974, 4975, 4976, 4977, 4978, 4979, 4980, 4981, 4982, 4983, 4984, 4985, 4986, 4987, 4988, 4989, 4990, 4991, 4992, 4993, 4994, 4995, 4996, 4997, 4998, 4999, 5004, 5014, 5024, 5034, 5040, 5041, 5042, 5043, 5044, 5045, 5046, 5047, 5048, 5049, 5054, 5064, 5074, 5084, 5094, 5104, 5114, 5124, 5134, 5140, 5141, 5142, 5143, 5144, 5145, 5146, 5147, 5148, 5149, 5154, 5164, 5174, 5184, 5194, 5204, 5214, 5224, 5234, 5240, 5241, 5242, 5243, 5244, 5245, 5246, 5247, 5248, 5249, 5254, 5264, 5274, 5284, 5294, 5304, 5314, 5324, 5334, 5340, 5341, 5342, 5343, 5344, 5345, 5346, 5347, 5348, 5349, 5354, 5364, 5374, 5384, 5394, 5400, 5401, 5402, 5403, 5404, 5405, 5406, 5407, 5408, 5409, 5410, 5411, 5412, 5413, 5414, 5415, 5416, 5417, 5418, 5419, 5420, 5421, 5422, 5423, 5424, 5425, 5426, 5427, 5428, 5429, 5430, 5431, 5432, 5433, 5434, 5435, 5436, 5437, 5438, 5439, 5440, 5441, 5442, 5443, 5444, 5445, 5446, 5447, 5448, 5449, 5450, 5451, 5452, 5453, 5454, 5455, 5456, 5457, 5458, 5459, 5460, 5461, 5462, 5463, 5464, 5465, 5466, 5467, 5468, 5469, 5470, 5471, 5472, 5473, 5474, 5475, 5476, 5477, 5478, 5479, 5480, 5481, 5482, 5483, 5484, 5485, 5486, 5487, 5488, 5489, 5490, 5491, 5492, 5493, 5494, 5495, 5496, 5497, 5498, 5499, 5504, 5514, 5524, 5534, 5540, 5541, 5542, 5543, 5544, 5545, 5546, 5547, 5548, 5549, 5554, 5564, 5574, 5584, 5594, 5604, 5614, 5624, 5634, 5640, 5641, 5642, 5643, 5644, 5645, 5646, 5647, 5648, 5649, 5654, 5664, 5674, 5684, 5694, 5704, 5714, 5724, 5734, 5740, 5741, 5742, 5743, 5744, 5745, 5746, 5747, 5748, 5749, 5754, 5764, 5774, 5784, 5794, 5804, 5814, 5824, 5834, 5840, 5841, 5842, 5843, 5844, 5845, 5846, 5847, 5848, 5849, 5854, 5864, 5874, 5884, 5894, 5904, 5914, 5924, 5934, 5940, 5941, 5942, 5943, 5944, 5945, 5946, 5947, 5948, 5949, 5954, 5964, 5974, 5984, 5994, 6004, 6014, 6024, 6034, 6040, 6041, 6042, 6043, 6044, 6045, 6046, 6047, 6048, 6049, 6054, 6064, 6074, 6084, 6094, 6104, 6114, 6124, 6134, 6140, 6141, 6142, 6143, 6144, 6145, 6146, 6147, 6148, 6149, 6154, 6164, 6174, 6184, 6194, 6204, 6214, 6224, 6234, 6240, 6241, 6242, 6243, 6244, 6245, 6246, 6247, 6248, 6249, 6254, 6264, 6274, 6284, 6294, 6304, 6314, 6324, 6334, 6340, 6341, 6342, 6343, 6344, 6345, 6346, 6347, 6348, 6349, 6354, 6364, 6374, 6384, 6394, 6400, 6401, 6402, 6403, 6404, 6405, 6406, 6407, 6408, 6409, 6410, 6411, 6412, 6413, 6414, 6415, 6416, 6417, 6418, 6419, 6420, 6421, 6422, 6423, 6424, 6425, 6426, 6427, 6428, 6429, 6430, 6431, 6432, 6433, 6434, 6435, 6436, 6437, 6438, 6439, 6440, 6441, 6442, 6443, 6444, 6445, 6446, 6447, 6448, 6449, 6450, 6451, 6452, 6453, 6454, 6455, 6456, 6457, 6458, 6459, 6460, 6461, 6462, 6463, 6464, 6465, 6466, 6467, 6468, 6469, 6470, 6471, 6472, 6473, 6474, 6475, 6476, 6477, 6478, 6479, 6480, 6481, 6482, 6483, 6484, 6485, 6486, 6487, 6488, 6489, 6490, 6491, 6492, 6493, 6494, 6495, 6496, 6497, 6498, 6499, 6504, 6514, 6524, 6534, 6540, 6541, 6542, 6543, 6544, 6545, 6546, 6547, 6548, 6549, 6554, 6564, 6574, 6584, 6594, 6604, 6614, 6624, 6634, 6640, 6641, 6642, 6643, 6644, 6645, 6646, 6647, 6648, 6649, 6654, 6664, 6674, 6684, 6694, 6704, 6714, 6724, 6734, 6740, 6741, 6742, 6743, 6744, 6745, 6746, 6747, 6748, 6749, 6754, 6764, 6774, 6784, 6794, 6804, 6814, 6824, 6834, 6840, 6841, 6842, 6843, 6844, 6845, 6846, 6847, 6848, 6849, 6854, 6864, 6874, 6884, 6894, 6904, 6914, 6924, 6934, 6940, 6941, 6942, 6943, 6944, 6945, 6946, 6947, 6948, 6949, 6954, 6964, 6974, 6984, 6994, 7004, 7014, 7024, 7034, 7040, 7041, 7042, 7043, 7044, 7045, 7046, 7047, 7048, 7049, 7054, 7064, 7074, 7084, 7094, 7104, 7114, 7124, 7134, 7140, 7141, 7142, 7143, 7144, 7145, 7146, 7147, 7148, 7149, 7154, 7164, 7174, 7184, 7194, 7204, 7214, 7224, 7234, 7240, 7241, 7242, 7243, 7244, 7245, 7246, 7247, 7248, 7249, 7254, 7264, 7274, 7284, 7294, 7304, 7314, 7324, 7334, 7340, 7341, 7342, 7343, 7344, 7345, 7346, 7347, 7348, 7349, 7354, 7364, 7374, 7384, 7394, 7400, 7401, 7402, 7403, 7404, 7405, 7406, 7407, 7408, 7409, 7410, 7411, 7412, 7413, 7414, 7415, 7416, 7417, 7418, 7419, 7420, 7421, 7422, 7423, 7424, 7425, 7426, 7427, 7428, 7429, 7430, 7431, 7432, 7433, 7434, 7435, 7436, 7437, 7438, 7439, 7440, 7441, 7442, 7443, 7444, 7445, 7446, 7447, 7448, 7449, 7450, 7451, 7452, 7453, 7454, 7455, 7456, 7457, 7458, 7459, 7460, 7461, 7462, 7463, 7464, 7465, 7466, 7467, 7468, 7469, 7470, 7471, 7472, 7473, 7474, 7475, 7476, 7477, 7478, 7479, 7480, 7481, 7482, 7483, 7484, 7485, 7486, 7487, 7488, 7489, 7490, 7491, 7492, 7493, 7494, 7495, 7496, 7497, 7498, 7499, 7504, 7514, 7524, 7534, 7540, 7541, 7542, 7543, 7544, 7545, 7546, 7547, 7548, 7549, 7554, 7564, 7574, 7584, 7594, 7604, 7614, 7624, 7634, 7640, 7641, 7642, 7643, 7644, 7645, 7646, 7647, 7648, 7649, 7654, 7664, 7674, 7684, 7694, 7704, 7714, 7724, 7734, 7740, 7741, 7742, 7743, 7744, 7745, 7746, 7747, 7748, 7749, 7754, 7764, 7774, 7784, 7794, 7804, 7814, 7824, 7834, 7840, 7841, 7842, 7843, 7844, 7845, 7846, 7847, 7848, 7849, 7854, 7864, 7874, 7884, 7894, 7904, 7914, 7924, 7934, 7940, 7941, 7942, 7943, 7944, 7945, 7946, 7947, 7948, 7949, 7954, 7964, 7974, 7984, 7994, 8004, 8014, 8024, 8034, 8040, 8041, 8042, 8043, 8044, 8045, 8046, 8047, 8048, 8049, 8054, 8064, 8074, 8084, 8094, 8104, 8114, 8124, 8134, 8140, 8141, 8142, 8143, 8144, 8145, 8146, 8147, 8148, 8149, 8154, 8164, 8174, 8184, 8194, 8204, 8214, 8224, 8234, 8240, 8241, 8242, 8243, 8244, 8245, 8246, 8247, 8248, 8249, 8254, 8264, 8274, 8284, 8294, 8304, 8314, 8324, 8334, 8340, 8341, 8342, 8343, 8344, 8345, 8346, 8347, 8348, 8349, 8354, 8364, 8374, 8384, 8394, 8400, 8401, 8402, 8403, 8404, 8405, 8406, 8407, 8408, 8409, 8410, 8411, 8412, 8413, 8414, 8415, 8416, 8417, 8418, 8419, 8420, 8421, 8422, 8423, 8424, 8425, 8426, 8427, 8428, 8429, 8430, 8431, 8432, 8433, 8434, 8435, 8436, 8437, 8438, 8439, 8440, 8441, 8442, 8443, 8444, 8445, 8446, 8447, 8448, 8449, 8450, 8451, 8452, 8453, 8454, 8455, 8456, 8457, 8458, 8459, 8460, 8461, 8462, 8463, 8464, 8465, 8466, 8467, 8468, 8469, 8470, 8471, 8472, 8473, 8474, 8475, 8476, 8477, 8478, 8479, 8480, 8481, 8482, 8483, 8484, 8485, 8486, 8487, 8488, 8489, 8490, 8491, 8492, 8493, 8494, 8495, 8496, 8497, 8498, 8499, 8504, 8514, 8524, 8534, 8540, 8541, 8542, 8543, 8544, 8545, 8546, 8547, 8548, 8549, 8554, 8564, 8574, 8584, 8594, 8604, 8614, 8624, 8634, 8640, 8641, 8642, 8643, 8644, 8645, 8646, 8647, 8648, 8649, 8654, 8664, 8674, 8684, 8694, 8704, 8714, 8724, 8734, 8740, 8741, 8742, 8743, 8744, 8745, 8746, 8747, 8748, 8749, 8754, 8764, 8774, 8784, 8794, 8804, 8814, 8824, 8834, 8840, 8841, 8842, 8843, 8844, 8845, 8846, 8847, 8848, 8849, 8854, 8864, 8874, 8884, 8894, 8904, 8914, 8924, 8934, 8940, 8941, 8942, 8943, 8944, 8945, 8946, 8947, 8948, 8949, 8954, 8964, 8974, 8984, 8994, 9004, 9014, 9024, 9034, 9040, 9041, 9042, 9043, 9044, 9045, 9046, 9047, 9048, 9049, 9054, 9064, 9074, 9084, 9094, 9104, 9114, 9124, 9134, 9140, 9141, 9142, 9143, 9144, 9145, 9146, 9147, 9148, 9149, 9154, 9164, 9174, 9184, 9194, 9204, 9214, 9224, 9234, 9240, 9241, 9242, 9243, 9244, 9245, 9246, 9247, 9248, 9249, 9254, 9264, 9274, 9284, 9294, 9304, 9314, 9324, 9334, 9340, 9341, 9342, 9343, 9344, 9345, 9346, 9347, 9348, 9349, 9354, 9364, 9374, 9384, 9394, 9400, 9401, 9402, 9403, 9404, 9405, 9406, 9407, 9408, 9409, 9410, 9411, 9412, 9413, 9414, 9415, 9416, 9417, 9418, 9419, 9420, 9421, 9422, 9423, 9424, 9425, 9426, 9427, 9428, 9429, 9430, 9431, 9432, 9433, 9434, 9435, 9436, 9437, 9438, 9439, 9440, 9441, 9442, 9443, 9444, 9445, 9446, 9447, 9448, 9449, 9450, 9451, 9452, 9453, 9454, 9455, 9456, 9457, 9458, 9459, 9460, 9461, 9462, 9463, 9464, 9465, 9466, 9467, 9468, 9469, 9470, 9471, 9472, 9473, 9474, 9475, 9476, 9477, 9478, 9479, 9480, 9481, 9482, 9483, 9484, 9485, 9486, 9487, 9488, 9489, 9490, 9491, 9492, 9493, 9494, 9495, 9496, 9497, 9498, 9499, 9504, 9514, 9524, 9534, 9540, 9541, 9542, 9543, 9544, 9545, 9546, 9547, 9548, 9549, 9554, 9564, 9574, 9584, 9594, 9604, 9614, 9624, 9634, 9640, 9641, 9642, 9643, 9644, 9645, 9646, 9647, 9648, 9649, 9654, 9664, 9674, 9684, 9694, 9704, 9714, 9724, 9734, 9740, 9741, 9742, 9743, 9744, 9745, 9746, 9747, 9748, 9749, 9754, 9764, 9774, 9784, 9794, 9804, 9814, 9824, 9834, 9840, 9841, 9842, 9843, 9844, 9845, 9846, 9847, 9848, 9849, 9854, 9864, 9874, 9884, 9894, 9904, 9914, 9924, 9934, 9940, 9941, 9942, 9943, 9944, 9945, 9946, 9947, 9948, 9949, 9954, 9964, 9974, 9984, 9994]\n"
     ]
    }
   ],
   "source": [
    "#si-fours\n",
    "big_range = [i for i in range(0, 10001)]\n",
    "fours = [print([i for i in big_range if '4' in str(i)])]\n",
    "\n",
    "\n"
   ]
  },
  {
   "cell_type": "markdown",
   "id": "1a190227-59d9-471c-aab3-69e0fd9a9457",
   "metadata": {},
   "source": [
    "### While Loops\n",
    "\n",
    "Another kind of loop that is used in some contexts is a `while` loop. `while` loops differ significantly from `for` loops in their intended use: a `for` loop is designed to execute a determined number of iterations, whereas a `while` loop is designed to execute code repeatedly until a **stopping condition** is met. This means that we can allow a `while` loop to repeat indefinitely. \n",
    "\n",
    "A **stopping rule** is the logical statement that is checked before each iteration of a `while` loop. Whenever this condition is evaluated as `True`, then the loop is executed. When the condition is evaluated as `False`, the loop is terminated and the program advances to subsequent commands. This is where the term **infinite loop** comes from! If we forget to update our stopping condition within our `while` loop, then it will never stop, because we never tell it to stop. It is **really** important to remember this when we are writing `while` loops, or we will probably crash our program if not our computer.\n",
    "\n",
    "A fun example of a while loop would be writing a function to prompt the user to add numbers until the sum is above 42:"
   ]
  },
  {
   "cell_type": "code",
   "execution_count": 89,
   "id": "e7b224dc-9d4c-4345-8361-3bf4840a769e",
   "metadata": {},
   "outputs": [
    {
     "name": "stdout",
     "output_type": "stream",
     "text": [
      "0\n",
      "1\n",
      "2\n",
      "3\n",
      "4\n",
      "5\n",
      "6\n",
      "7\n",
      "8\n",
      "9\n",
      "10\n",
      "11\n",
      "12\n",
      "13\n",
      "14\n",
      "15\n",
      "16\n",
      "17\n",
      "18\n",
      "19\n",
      "20\n",
      "21\n",
      "22\n",
      "23\n",
      "24\n",
      "25\n",
      "26\n",
      "27\n",
      "28\n",
      "29\n",
      "30\n",
      "31\n",
      "32\n",
      "33\n",
      "34\n",
      "35\n",
      "36\n",
      "37\n",
      "38\n",
      "39\n",
      "40\n",
      "41\n",
      "42\n"
     ]
    }
   ],
   "source": [
    "total = 0\n",
    "while total <= 42:\n",
    "  print(total)\n",
    "  total += 1 "
   ]
  },
  {
   "cell_type": "markdown",
   "id": "f29d4d98-7900-4369-9c17-b771611958f5",
   "metadata": {},
   "source": [
    "In reality, we would probably use `while` loops for significantly more difficult problems than our toy example. `while` loops are valuable in cases where we are seeking convergence such as dynamic programming, search models, and optimization problems in the context of statistical models.\n",
    "\n",
    "**Solve it!**\n",
    "In a cell with the comment `#si-while-loop`, create a variable `x` and assign it a starting value of 432. Next, write a while loop that subtracts 10 from `x` and stores the new value in the variable `x` while `x` is still above 100. "
   ]
  },
  {
   "cell_type": "code",
   "execution_count": 90,
   "id": "cc849af4-8f06-403d-a3a0-2869a742d58f",
   "metadata": {},
   "outputs": [
    {
     "name": "stdout",
     "output_type": "stream",
     "text": [
      "432\n",
      "422\n",
      "412\n",
      "402\n",
      "392\n",
      "382\n",
      "372\n",
      "362\n",
      "352\n",
      "342\n",
      "332\n",
      "322\n",
      "312\n",
      "302\n",
      "292\n",
      "282\n",
      "272\n",
      "262\n",
      "252\n",
      "242\n",
      "232\n",
      "222\n",
      "212\n",
      "202\n",
      "192\n",
      "182\n",
      "172\n",
      "162\n",
      "152\n",
      "142\n",
      "132\n",
      "122\n",
      "112\n",
      "102\n"
     ]
    }
   ],
   "source": [
    "#si-while-loop\n",
    "\n",
    "x = 432\n",
    "\n",
    "while (x > 100):\n",
    "    print(x)\n",
    "    x -= 10\n"
   ]
  },
  {
   "cell_type": "markdown",
   "id": "76c7c772-0d8a-421f-b407-b1e8806833ff",
   "metadata": {},
   "source": [
    "# Functions\n",
    "\n",
    "Functions are an excellent addition to our ability to generate reusable code, and can save us significant effort when we want to recycle code from one problem to the next. In fact, there will come a time later in this course where we will do very little programming that does not involve functions on just about every line of our code. Functions are where computer programs really get their strength, especially when used together with logical statements and loops to create simple instructions that we can use to perform complex tasks.\n",
    "\n",
    "A function is created by using the keyword `def`, followed by the name of the new function we are creating. At the end of the name of the function, we place any the names of any values we want users to provide to our function within parentheses (`(` and `)`).\n",
    "\n",
    "Let's start by creating a function that can calculate the circumference of any circle. It will require our user to provide the radius of the circle, since the circumference of a circle is $2\\pi r$."
   ]
  },
  {
   "cell_type": "code",
   "execution_count": null,
   "id": "a654076a-8571-406f-9d16-fa3911992de3",
   "metadata": {},
   "outputs": [],
   "source": [
    "def circumference(r):\n",
    "    return 2*3.14159265*r"
   ]
  },
  {
   "cell_type": "markdown",
   "id": "02160e04-666b-4d53-b703-1b67f710e23f",
   "metadata": {},
   "source": [
    "Our function starts just like we explained above. We declare a function named `circumference`, and in parentheses we ask the user to provide `r`, which we know is the radius of the circle. This `r` value is treated as a variable within our function, and we can refer to it by using `r` in our operations within the function.\n",
    "\n",
    "The last line of any function should contain a `return` statement. This line tells our function what information to pass back to the program as a whole. It should typically be the final result of our function's operations.\n",
    "\n",
    "When we **declare** a function, like we did above, we tell Python what to do if we ask for a function to be executed. The function is NOT executed, though! Python waits until we **call** a function, like we will do below:"
   ]
  },
  {
   "cell_type": "code",
   "execution_count": null,
   "id": "e22bfd48-e02f-4284-8bf6-ee9e45932ba3",
   "metadata": {},
   "outputs": [],
   "source": [
    "circumference(2)"
   ]
  },
  {
   "cell_type": "markdown",
   "id": "2035ad2b-1243-4648-b56d-ba91e821e5e4",
   "metadata": {},
   "source": [
    "We just **called** our `circumference` function with an `r` value of `2`. The function evaluates the circumference of the circle with radius 2, and returns the calculated value upon completion.\n",
    "\n",
    "Let's write another fucntion, this time to calculate the *factorial* of a given number. A factorial is calculated as the product of an integer with all integers of smaller value. For example, $4!$ (4 factorial) is calculated as $4\\times3\\times2\\times1$."
   ]
  },
  {
   "cell_type": "code",
   "execution_count": null,
   "id": "5eb74139-b605-4a34-815e-dd2afe5cd7da",
   "metadata": {},
   "outputs": [],
   "source": [
    "def factorial(n):\n",
    "    fac = 1\n",
    "    while n > 0:\n",
    "        fac *= n\n",
    "        n -= 1\n",
    "    return fac"
   ]
  },
  {
   "cell_type": "markdown",
   "id": "d2433ff7-37d4-479b-8f64-19c8759a43b8",
   "metadata": {},
   "source": [
    "This function takes a number `n`, and multiplies it by 1. Then, it subtracts 1 from `n`, and repeats the process so long as n is still greater than 0. We can confirm that it works properly by calling the function:"
   ]
  },
  {
   "cell_type": "code",
   "execution_count": null,
   "id": "20912ec8-758f-41fe-8bd3-627e20868559",
   "metadata": {},
   "outputs": [],
   "source": [
    "factorial(5)"
   ]
  },
  {
   "cell_type": "markdown",
   "id": "c9461fa4-6ce7-4b63-b5c1-a2c65732188a",
   "metadata": {},
   "source": [
    "**Solve it!**\n",
    "\n",
    "A prime number is an integer greater than 1 that is only divisible by one and itself. In a cell commented with `#si-prime`, write a function `isPrime` that determines whether or not its parameter is prime, returning `True` if it is, and `False` otherwise."
   ]
  },
  {
   "cell_type": "code",
   "execution_count": null,
   "id": "c7b4c421-59d4-467d-8675-805b55715d7f",
   "metadata": {},
   "outputs": [],
   "source": [
    "#si-prime"
   ]
  },
  {
   "cell_type": "markdown",
   "id": "4def472e-8a4d-4c7c-a821-a4a1e713b681",
   "metadata": {},
   "source": [
    "**Solve it!**\n",
    "\n",
    "In a cell commented with `#si-taxi`, write a function called `taxiPrice` that calculates taxi fares. The function should accept as an argument `distance`, which is the distance traveled by taxi (measured in km), and should return a price (just the number is fine, no currency symbol is needed). The fee schedule is a €4.00 base fee, with a charge of €0.25 for each 140m traveled.\n",
    "\n",
    "from *The Python Workbook*"
   ]
  },
  {
   "cell_type": "code",
   "execution_count": null,
   "id": "cd8f1a7a-d9cf-4498-a677-e17d64d0eea0",
   "metadata": {},
   "outputs": [],
   "source": [
    "#si-taxi"
   ]
  },
  {
   "cell_type": "markdown",
   "id": "15187afa-b82c-4f3d-82b2-44047fb4d08a",
   "metadata": {},
   "source": [
    "### Recursive Functions\n",
    "\n",
    "Another really helpful feature of functions is the ability to call a function within itself. This process is called **recursion**, and makes otherwise intractable problems straightforward. First, let's look at an example of our `factorial` function that has been rewritten as a recursive function:"
   ]
  },
  {
   "cell_type": "code",
   "execution_count": null,
   "id": "2b642bfb-085c-4b8a-8835-e11a367b6906",
   "metadata": {},
   "outputs": [],
   "source": [
    "def factorial(n):\n",
    "    if n <= 1:\n",
    "        return 1\n",
    "    else:\n",
    "        return n*factorial(n-1)"
   ]
  },
  {
   "cell_type": "markdown",
   "id": "92a7353e-42c1-488d-8e06-64998cfc1c07",
   "metadata": {},
   "source": [
    "Recursive functions increase our ability to write flexible programs at the cost of sometimes taking longer to read and interpret. The function above contains some very simple logic that allows us to calculate the same values as our old `factorial` function:\n",
    "\n",
    "1) If `n` is less than or equal to 1, then we get back 1 as the resulting factorial. (Both 0 factorial and 1 factorial have a value of 1)\n",
    "\n",
    "2) For any other number `n`, we just want to multiply that number times the factorial of `n-1`. For example, the value of $2!$ is $2\\times 1!$, and the value of $3!$ is $3\\times2!$.\n",
    "\n",
    "Our program will continue to call `factorial(n-1)` until `n-1` is 1 or 0, at which point it will simply return the value `1`, and multiply each returned value back up the chain until we get our final result.\n",
    "\n",
    "Recursive programs aren't always necessary, but they come in very handy where we need to explore conditions with unclear stopping points (recursive problems in dynamic programming are common in Economics, for example).\n",
    "\n",
    "\n",
    "**Solve it!**\n",
    "\n",
    "In a cell commented with `#si-fibonacci`, write a **recursive** function to calculate the n-th Fibonacci number. You should name your function `fib` and it should take one argument (`n`). It should return the Fibonacci number corresponding to `n`."
   ]
  },
  {
   "cell_type": "code",
   "execution_count": null,
   "id": "9d3b9a2b-248e-4fda-b9a5-8adbc43cc2d0",
   "metadata": {},
   "outputs": [],
   "source": [
    "#si-fibonacci"
   ]
  },
  {
   "cell_type": "markdown",
   "id": "46c13992-729f-4191-8b28-27206c5704c3",
   "metadata": {
    "tags": []
   },
   "source": [
    "### Why we use functions\n",
    "\n",
    "When we use functions, we are able to write code in a single place that can be recycled anywhere in our code. We can even call functions from one script into another! This means that we only have to maintain a single block of code for each task we hope to implement in Python, and then we are able to use it over and over again.\n",
    "\n",
    "The alternative to this is to write the same code over and over again. If we make a mistake, we have to fix it over and over again. If we update our code to improve functionality, we have to update it over and over again.\n",
    "\n",
    "In short, functions save us effort in writing lines of code, updating lines of code, and fixing potential mistakes in our code.\n",
    "\n",
    "## Commenting our code\n",
    "\n",
    "It is important that, as we begin writing more and more complex code, we learn to leave explanations of our code. In the future, users of our code (future you, future me, and other users, as well!) will have an easier time understanding and updating the code if they can quickly grasp what we are attempting to do with that code.\n",
    "\n",
    "The first way that we can comment code is by using the `#` symbol. Putting a `#` anywhere in a line of Python indicates that ALL text from that point until the end of the line is not code, but is a comment. These comments only last until the end of the line, at which point Python treats the text as code again."
   ]
  },
  {
   "cell_type": "code",
   "execution_count": null,
   "id": "81d4327b-f7da-4d4a-9a0e-e8496f9ffeb4",
   "metadata": {
    "tags": []
   },
   "outputs": [],
   "source": [
    "# This is a recursive function that calculates the factorial of n\n",
    "def factorial(n):\n",
    "    if n <= 1:\n",
    "        return 1 # The return value for 0 and 1\n",
    "    else:\n",
    "        return n*factorial(n-1) # The return value for all numbers higher than 1"
   ]
  },
  {
   "cell_type": "markdown",
   "id": "4380aeec-49fe-462a-8d69-707948f7269b",
   "metadata": {
    "tags": []
   },
   "source": [
    "The comments provided above are helpful in understanding what is happening in our factorial code, but they are only visible while we are looking at the code itself. We would not be able to see those comments when we need help and are working in another script. Luckily, we also have ways to leave comments that are visible through the `help()` command at any time when working in Python.\n",
    "\n",
    "**docstrings** enable us to leave messages that can be accessed by users when they need to remember what a function does and how it works. **docstrings** are called by using triple quotes `\"\"\"` at the beginning and end of the **docstring**."
   ]
  },
  {
   "cell_type": "code",
   "execution_count": null,
   "id": "fc5bcb05-f510-47dc-841c-ea6dd983795b",
   "metadata": {
    "tags": []
   },
   "outputs": [],
   "source": [
    "# This is a recursive function that calculates the factorial of n\n",
    "def factorial(n):\n",
    "    \"\"\"\n",
    "    factorial(n) takes an integer (n) as input\n",
    "    and returns the mathematical factorial\n",
    "    of that number.\n",
    "    \"\"\"\n",
    "    if n <= 1:\n",
    "        return 1 # The return value for 0 and 1\n",
    "    else:\n",
    "        return n*factorial(n-1) # The return value for all numbers higher than 1"
   ]
  },
  {
   "cell_type": "markdown",
   "id": "83e8582f-c6d2-4903-85e2-21a46ec84061",
   "metadata": {
    "tags": []
   },
   "source": [
    "Now, we can use the line `help(factorial)` to get some guidance on our `factorial` function:"
   ]
  },
  {
   "cell_type": "code",
   "execution_count": null,
   "id": "592e784a-e47c-45ef-9bcf-59fd5437e20d",
   "metadata": {
    "tags": []
   },
   "outputs": [],
   "source": [
    "help(factorial)"
   ]
  },
  {
   "cell_type": "markdown",
   "id": "05d3f30e-1a52-4980-9034-efed49268e2c",
   "metadata": {
    "tags": []
   },
   "source": [
    "### When should we leave comments in our code?\n",
    "\n",
    "Always! We should comment ALL code that we write. This allows us to pick up where we left off when working on long-term projects, but also makes it easier to collaborate on projects with other programmers. If you ever want your code to be used by others, commenting will be a valuable tool for those users.\n",
    "\n",
    "Comment your code when:\n",
    "- You plan on using your code\n",
    "- You might look at your code again at a different time\n",
    "- Someone else might use your code\n",
    "- Someone else might update your code\n",
    "- Someone else might need to read your code\n",
    "\n",
    "In other words, always comment your code."
   ]
  },
  {
   "cell_type": "code",
   "execution_count": null,
   "id": "3fb1aba0-24c9-4e52-941d-dfd9345df62f",
   "metadata": {},
   "outputs": [],
   "source": []
  }
 ],
 "metadata": {
  "kernelspec": {
   "display_name": "Python 3 (ipykernel)",
   "language": "python",
   "name": "python3"
  },
  "language_info": {
   "codemirror_mode": {
    "name": "ipython",
    "version": 3
   },
   "file_extension": ".py",
   "mimetype": "text/x-python",
   "name": "python",
   "nbconvert_exporter": "python",
   "pygments_lexer": "ipython3",
   "version": "3.9.13"
  }
 },
 "nbformat": 4,
 "nbformat_minor": 5
}
